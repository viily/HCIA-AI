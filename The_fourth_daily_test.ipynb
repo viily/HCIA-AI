{
 "cells": [
  {
   "cell_type": "markdown",
   "metadata": {},
   "source": [
    "### 1、Import tensorflow and use tensorflow to define a constant."
   ]
  },
  {
   "cell_type": "code",
   "execution_count": 1,
   "metadata": {},
   "outputs": [
    {
     "name": "stdout",
     "output_type": "stream",
     "text": [
      "35.0\n"
     ]
    }
   ],
   "source": [
    "import tensorflow.compat.v1 as tf\n",
    "with tf.Session() as sess:\n",
    "    x = tf.constant(35.0)\n",
    "    print(sess.run(x))"
   ]
  },
  {
   "cell_type": "markdown",
   "metadata": {},
   "source": [
    "### 2、Use tensorflow to print 'Welcome to Huawei'."
   ]
  },
  {
   "cell_type": "code",
   "execution_count": 2,
   "metadata": {},
   "outputs": [
    {
     "name": "stdout",
     "output_type": "stream",
     "text": [
      "b'Welcome to Huawei'\n"
     ]
    }
   ],
   "source": [
    "with tf.Session() as sess:\n",
    "    a=tf.constant('Welcome to Huawei', name='a')\n",
    "    print(sess.run(a))"
   ]
  },
  {
   "cell_type": "markdown",
   "metadata": {},
   "source": [
    "### 3、Use tensorflow to define two numeric constants,then calculate them and print the result."
   ]
  },
  {
   "cell_type": "code",
   "execution_count": 3,
   "metadata": {},
   "outputs": [
    {
     "name": "stdout",
     "output_type": "stream",
     "text": [
      "5.0\n"
     ]
    }
   ],
   "source": [
    "with tf.Session() as sess:\n",
    "    a=tf.constant(2.0)\n",
    "    b=tf.constant(3.0)\n",
    "    c=a+b\n",
    "    print(sess.run(c))"
   ]
  },
  {
   "cell_type": "markdown",
   "metadata": {},
   "source": [
    "### 4、Randomly generate two matrices using tensorflow, calculate and print the result of their multiplication."
   ]
  },
  {
   "cell_type": "code",
   "execution_count": 4,
   "metadata": {},
   "outputs": [
    {
     "name": "stdout",
     "output_type": "stream",
     "text": [
      "[[ 23  31  58]\n",
      " [ 47  44  60]\n",
      " [ 67  75 123]]\n"
     ]
    }
   ],
   "source": [
    "with tf.Session() as sess:\n",
    "    var1 = tf.compat.v1.get_variable(\"var1\", initializer=tf.compat.v1.random_uniform([3, 3], minval=1, maxval=10, dtype=tf.int32))\n",
    "    var2 = tf.compat.v1.get_variable(\"var2\", initializer=tf.compat.v1.random_uniform([3, 3], minval=1, maxval=10, dtype=tf.int32))\n",
    "    sess.run(tf.global_variables_initializer())\n",
    "    mat = tf.matmul(var1, var2)\n",
    "    print(sess.run(mat))"
   ]
  },
  {
   "cell_type": "markdown",
   "metadata": {},
   "source": [
    "### 5、Try to use your own handwriting number to do image recognition"
   ]
  },
  {
   "cell_type": "code",
   "execution_count": 5,
   "metadata": {},
   "outputs": [
    {
     "name": "stdout",
     "output_type": "stream",
     "text": [
      "Epoch 1/15\n",
      "1875/1875 [==============================] - 6s 3ms/step - loss: 0.2223 - accuracy: 0.9316\n",
      "Epoch 2/15\n",
      "1875/1875 [==============================] - 5s 3ms/step - loss: 0.1073 - accuracy: 0.9670\n",
      "Epoch 3/15\n",
      "1875/1875 [==============================] - 5s 3ms/step - loss: 0.0818 - accuracy: 0.9744\n",
      "Epoch 4/15\n",
      "1875/1875 [==============================] - 5s 3ms/step - loss: 0.0659 - accuracy: 0.9790\n",
      "Epoch 5/15\n",
      "1875/1875 [==============================] - 5s 3ms/step - loss: 0.0575 - accuracy: 0.9818\n",
      "Epoch 6/15\n",
      "1875/1875 [==============================] - 5s 3ms/step - loss: 0.0472 - accuracy: 0.9852\n",
      "Epoch 7/15\n",
      "1875/1875 [==============================] - 5s 3ms/step - loss: 0.0462 - accuracy: 0.9854\n",
      "Epoch 8/15\n",
      "1875/1875 [==============================] - 5s 3ms/step - loss: 0.0426 - accuracy: 0.9870\n",
      "Epoch 9/15\n",
      "1875/1875 [==============================] - 5s 3ms/step - loss: 0.0388 - accuracy: 0.9872\n",
      "Epoch 10/15\n",
      "1875/1875 [==============================] - 5s 3ms/step - loss: 0.0360 - accuracy: 0.9888\n",
      "Epoch 11/15\n",
      "1875/1875 [==============================] - 5s 3ms/step - loss: 0.0339 - accuracy: 0.9897\n",
      "Epoch 12/15\n",
      "1875/1875 [==============================] - 5s 3ms/step - loss: 0.0334 - accuracy: 0.9894\n",
      "Epoch 13/15\n",
      "1875/1875 [==============================] - 5s 3ms/step - loss: 0.0307 - accuracy: 0.9906\n",
      "Epoch 14/15\n",
      "1875/1875 [==============================] - 5s 3ms/step - loss: 0.0287 - accuracy: 0.9912\n",
      "Epoch 15/15\n",
      "1875/1875 [==============================] - 5s 3ms/step - loss: 0.0286 - accuracy: 0.9912\n",
      "Модель успешно обучена\n",
      "Модель сохранена как mnist.h5\n",
      "313/313 - 0s - loss: 0.0935 - accuracy: 0.9805\n"
     ]
    },
    {
     "data": {
      "text/plain": [
       "[0.0935116782784462, 0.9804999828338623]"
      ]
     },
     "execution_count": 5,
     "metadata": {},
     "output_type": "execute_result"
    }
   ],
   "source": [
    "import tensorflow as tf\n",
    "\n",
    "    # Загружаем датасет MNIST\n",
    "mnist = tf.keras.datasets.mnist\n",
    "\n",
    "(x_train, y_train), (x_test, y_test) = mnist.load_data()\n",
    "\n",
    "x_train, x_test = x_train / 255.0, x_test / 255.0\n",
    "\n",
    "model = tf.keras.models.Sequential([\n",
    "    tf.keras.layers.Flatten(input_shape=(28, 28, 1)), # Входной слой: 784 нейрона (28х28) статический\n",
    "    tf.keras.layers.Dense(502, activation='relu'), # Первый скрытый слой 502 нейрона\n",
    "    tf.keras.layers.Dropout(0.2),\n",
    "    tf.keras.layers.Dense(256, activation='relu'), # Второй скрытый слой 256 нейронов\n",
    "    tf.keras.layers.Dropout(0.2),\n",
    "    tf.keras.layers.Dense(10) # Выходной слой 10 нейронов (статический)\n",
    "])\n",
    "predictions = model(x_train[:1]).numpy()\n",
    "tf.nn.softmax(predictions).numpy()\n",
    "loss_fn = tf.keras.losses.SparseCategoricalCrossentropy(from_logits=True)\n",
    "loss_fn(y_train[:1], predictions).numpy()\n",
    "model.compile(optimizer='adam', loss=loss_fn, metrics=['accuracy']) # Компиляция модели\n",
    "model.fit(x_train, y_train, epochs=15) # Тренировка модели 15 эпох\n",
    "print(\"Модель успешно обучена\")\n",
    "model.save('mnist.h5') # Сохранение модели в файл чтобы заново не переучивать\n",
    "print(\"Модель сохранена как mnist.h5\")\n",
    "\n",
    "model.evaluate(x_test, y_test, verbose=2)"
   ]
  },
  {
   "cell_type": "code",
   "execution_count": 6,
   "metadata": {},
   "outputs": [
    {
     "name": "stdout",
     "output_type": "stream",
     "text": [
      "Файл ‘2.jpg’ уже существует — не загружается.\n",
      "\n",
      "Цифра: 2 Точность: 39.75063\n"
     ]
    }
   ],
   "source": [
    "from PIL import ImageFile, Image, ImageOps, ImageEnhance\n",
    "from keras.models import load_model\n",
    "from tensorflow.keras.preprocessing import image\n",
    "import numpy\n",
    "\n",
    "#ImageFile.LOAD_TRUNCATED_IMAGES = True\n",
    "!wget -nc https://raw.githubusercontent.com/MorozoffM4x/HCIA-AI/main/2.jpg\n",
    "img = Image.open(\"2.jpg\") # Можно подгрузить изображения *.jpg где * - цифра\n",
    "    # загружаем сохранённую модель\n",
    "model = load_model('mnist.h5')\n",
    "img = img.resize((28,28))\n",
    "    # конвертируем rgb в grayscale\n",
    "img = img.convert('L')\n",
    "    # Инвертируем изображение\n",
    "img = ImageOps.invert(img)\n",
    "    # Увеличиваем контраст в 10 раз\n",
    "enhancer = ImageEnhance.Contrast(img)\n",
    "img = enhancer.enhance(10)\n",
    "\n",
    "#img.show() # Тестовая проверка полученного изображения\n",
    "img= image.img_to_array(img)\n",
    "#img = numpy.array(img)\n",
    "    # изменение размерности для поддержки модели ввода и нормализации\n",
    "img = img.reshape(1,28,28,1)\n",
    "img = img / 255.0\n",
    "    # предсказание цифры\n",
    "res = model.predict([img])[0]\n",
    "\n",
    "print(\"Цифра:\", numpy.argmax(res), \"Точность:\", max(res))\n"
   ]
  },
  {
   "cell_type": "markdown",
   "metadata": {},
   "source": [
    "Очень низкая точность из-за плохой подготовкии изображений."
   ]
  }
 ],
 "metadata": {
  "kernelspec": {
   "display_name": "Python 3",
   "language": "python",
   "name": "python3"
  },
  "language_info": {
   "codemirror_mode": {
    "name": "ipython",
    "version": 3
   },
   "file_extension": ".py",
   "mimetype": "text/x-python",
   "name": "python",
   "nbconvert_exporter": "python",
   "pygments_lexer": "ipython3",
   "version": "3.9.5"
  }
 },
 "nbformat": 4,
 "nbformat_minor": 2
}
